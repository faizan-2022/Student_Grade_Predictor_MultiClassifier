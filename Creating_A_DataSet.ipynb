{
 "cells": [
  {
   "cell_type": "code",
   "execution_count": 1,
   "id": "ec804924-9cd7-49e9-a016-aa0ef5d9d8f1",
   "metadata": {},
   "outputs": [],
   "source": [
    "import pandas as pd\n",
    "import numpy as np"
   ]
  },
  {
   "cell_type": "code",
   "execution_count": 2,
   "id": "95601353-21a3-44a8-9833-261aa800eefc",
   "metadata": {},
   "outputs": [],
   "source": [
    "# Set a seed for reproducibility\n",
    "np.random.seed(42)"
   ]
  },
  {
   "cell_type": "code",
   "execution_count": 3,
   "id": "f6fb9dac-5087-40a5-8d56-f380359e95c5",
   "metadata": {},
   "outputs": [],
   "source": [
    "# Generate synthetic data\n",
    "data = {\n",
    "    'Quiz1': np.round(np.random.uniform(0, 4, 2000), 1),  # Out of 4\n",
    "    'Quiz2': np.round(np.random.uniform(0, 4, 2000), 1),   # Out of 4\n",
    "    'Assignment1': np.round(np.random.uniform(0, 3.5, 2000), 1),  # Out of 3.5\n",
    "    'Assignment2': np.round(np.random.uniform(0, 3.5, 2000), 1),  # Out of 3.5\n",
    "    'Attendance': np.concatenate([np.random.randint(70, 101, 1600), np.random.choice(np.concatenate([np.random.randint(0, 70, 160), np.random.randint(0, 70, 240)]), size=400, replace=False)]),  # 80% >= 70, 20% < 70\n",
    "    'StudyHours': np.round(np.random.uniform(0, 12, 2000), 1),  # Rounded to first decimal place\n",
    "    'ProjectScore': np.round(np.random.uniform(0, 10, 2000), 1),  # Out of 10\n",
    "    'Midterm': np.round(np.random.uniform(0, 25, 2000), 1),  # Out of 25\n",
    "    'Final': np.round(np.random.uniform(0, 50, 2000), 1),  # Out of 50\n",
    "}\n",
    "# Generate 'Attendance' column with 80% values >= 70 and 20% values < 70\n",
    "attendance_values = np.concatenate([np.random.randint(70, 101, 1600), np.random.randint(0, 70, 400)])\n",
    "np.random.shuffle(attendance_values)\n",
    "data['Attendance'] = attendance_values"
   ]
  },
  {
   "cell_type": "code",
   "execution_count": 4,
   "id": "d3fa58ca-f8a4-41f9-b2ca-eb5b11c2fed8",
   "metadata": {},
   "outputs": [],
   "source": [
    "# Ensure \"Final\" is 0 when \"Attendance\" is less than 70\n",
    "data['Final'][data['Attendance'] < 70] = 0"
   ]
  },
  {
   "cell_type": "code",
   "execution_count": 5,
   "id": "2f136bb6-dfd8-457c-84c9-6a2e48c0c548",
   "metadata": {},
   "outputs": [],
   "source": [
    "df = pd.DataFrame(data)"
   ]
  },
  {
   "cell_type": "code",
   "execution_count": 6,
   "id": "825a11bf-5566-41cb-ba46-c2e7ce7e4998",
   "metadata": {},
   "outputs": [],
   "source": [
    "# Calculate the total based on the sum of specific columns\n",
    "columns_to_sum = ['Quiz1', 'Quiz2', 'Assignment1', 'Assignment2', 'ProjectScore', 'Midterm', 'Final']\n",
    "df['Total'] = df.loc[:, columns_to_sum].sum(axis=1)"
   ]
  },
  {
   "cell_type": "code",
   "execution_count": 7,
   "id": "a7041d52-c5a8-44fa-838d-8f325400bd66",
   "metadata": {},
   "outputs": [],
   "source": [
    "# Assign grades based on the total\n",
    "conditions = [\n",
    "    (df['Total'] >= 84.5),\n",
    "    (df['Total'] < 84.5) & (df['Total'] >= 79.5),\n",
    "    (df['Total'] < 79.5) & (df['Total'] >= 64.5),\n",
    "    (df['Total'] < 64.5) & (df['Total'] >= 54.5),\n",
    "    (df['Total'] < 54.5) & (df['Total'] >= 49.5),\n",
    "    (df['Total'] < 49.5)\n",
    "]\n",
    "\n",
    "grades = ['A+', 'A', 'B', 'C', 'D', 'F']\n",
    "\n",
    "df['Grade'] = np.select(conditions, grades)"
   ]
  },
  {
   "cell_type": "code",
   "execution_count": 8,
   "id": "f2d31c59-bd76-474b-90b4-e039bd356d57",
   "metadata": {},
   "outputs": [],
   "source": [
    "# Map grades to numerical values\n",
    "grade_mapping = {'A+': 0, 'A': 1, 'B': 2, 'C': 3, 'D': 4, 'F': 5}"
   ]
  },
  {
   "cell_type": "code",
   "execution_count": 9,
   "id": "11d77c74-035c-47e7-88c4-366202828b5b",
   "metadata": {},
   "outputs": [],
   "source": [
    "# Create a new 'Grade' column with numerical values\n",
    "df['Grade'] = np.select(conditions, grades)\n",
    "df['Grade'] = df['Grade'].map(grade_mapping)"
   ]
  },
  {
   "cell_type": "code",
   "execution_count": 10,
   "id": "a47edec6-32bb-416e-a263-4c37ec763543",
   "metadata": {},
   "outputs": [],
   "source": [
    "# Convert the 'Grade' column to integer data type\n",
    "df['Grade'] = df['Grade'].astype(int)"
   ]
  },
  {
   "cell_type": "code",
   "execution_count": 11,
   "id": "cc29a51a-4ef6-4012-b5bb-a3e0eef5f7a8",
   "metadata": {},
   "outputs": [],
   "source": [
    "# Drop the 'Total' column to meet your requirement of not including it in the dataset\n",
    "df.drop('Total', axis=1, inplace=True)"
   ]
  },
  {
   "cell_type": "code",
   "execution_count": 12,
   "id": "fca9ff2d-a586-4fd7-9728-952a4923446e",
   "metadata": {},
   "outputs": [],
   "source": [
    "# Assuming 'A+' grade is represented by 'A+' in the 'Grade' column, and so on\n",
    "df.loc[(df['Grade'] == 'A+') & (df['StudyHours'] < 9), 'StudyHours'] = np.round(np.random.uniform(9, 12, df.loc[(df['Grade'] == 'A+') & (df['StudyHours'] < 9), 'StudyHours'].shape[0]), 1)\n",
    "df.loc[(df['Grade'] == 'A+') & (df['StudyHours'] > 12), 'StudyHours'] = 12\n",
    "\n",
    "df.loc[(df['Grade'] == 'A') & (df['StudyHours'] < 7), 'StudyHours'] = np.round(np.random.uniform(7, 9, df.loc[(df['Grade'] == 'A') & (df['StudyHours'] < 7), 'StudyHours'].shape[0]), 1)\n",
    "df.loc[(df['Grade'] == 'A') & (df['StudyHours'] >= 9), 'StudyHours'] = 9\n",
    "\n",
    "df.loc[(df['Grade'] == 'B') & (df['StudyHours'] < 5), 'StudyHours'] = np.round(np.random.uniform(5, 7, df.loc[(df['Grade'] == 'B') & (df['StudyHours'] < 5), 'StudyHours'].shape[0]), 1)\n",
    "df.loc[(df['Grade'] == 'B') & (df['StudyHours'] >= 7), 'StudyHours'] = 7\n",
    "\n",
    "df.loc[(df['Grade'] == 'C') & (df['StudyHours'] < 3), 'StudyHours'] = np.round(np.random.uniform(3, 5, df.loc[(df['Grade'] == 'C') & (df['StudyHours'] < 3), 'StudyHours'].shape[0]), 1)\n",
    "df.loc[(df['Grade'] == 'C') & (df['StudyHours'] >= 5), 'StudyHours'] = 5\n",
    "\n",
    "df.loc[(df['Grade'] == 'D') & (df['StudyHours'] < 2), 'StudyHours'] = np.round(np.random.uniform(2, 3, df.loc[(df['Grade'] == 'D') & (df['StudyHours'] < 2), 'StudyHours'].shape[0]), 1)\n",
    "df.loc[(df['Grade'] == 'D') & (df['StudyHours'] >= 3), 'StudyHours'] = 3\n",
    "\n",
    "df.loc[(df['Grade'] == 'F') & (df['StudyHours'] < 1), 'StudyHours'] = np.round(np.random.uniform(0, 2, df.loc[(df['Grade'] == 'F') & (df['StudyHours'] < 1), 'StudyHours'].shape[0]), 1)\n",
    "df.loc[(df['Grade'] == 'F') & (df['StudyHours'] >= 2), 'StudyHours'] = 1\n"
   ]
  },
  {
   "cell_type": "code",
   "execution_count": 13,
   "id": "5882f5ea-3f79-4015-91f6-538a6e8f16bf",
   "metadata": {},
   "outputs": [],
   "source": [
    "# Save the DataFrame to a CSV file\n",
    "df.to_csv('student_data.csv', index=False)"
   ]
  }
 ],
 "metadata": {
  "kernelspec": {
   "display_name": "Python 3 (ipykernel)",
   "language": "python",
   "name": "python3"
  },
  "language_info": {
   "codemirror_mode": {
    "name": "ipython",
    "version": 3
   },
   "file_extension": ".py",
   "mimetype": "text/x-python",
   "name": "python",
   "nbconvert_exporter": "python",
   "pygments_lexer": "ipython3",
   "version": "3.12.0"
  }
 },
 "nbformat": 4,
 "nbformat_minor": 5
}
