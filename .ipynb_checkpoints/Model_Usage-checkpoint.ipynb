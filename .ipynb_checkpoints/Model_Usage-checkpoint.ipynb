{
 "cells": [
  {
   "cell_type": "code",
   "execution_count": 1,
   "id": "3c0c2db3-d187-4e75-a2ed-8762d6d86458",
   "metadata": {},
   "outputs": [],
   "source": [
    "from joblib import dump,load\n",
    "import pandas as pd\n",
    "classifier = load('Student_Prediction.joblib')"
   ]
  },
  {
   "cell_type": "code",
   "execution_count": 2,
   "id": "2beabf46-198a-489a-9fe4-82b02f696043",
   "metadata": {},
   "outputs": [],
   "source": [
    "feature_names = ['Quiz1', 'Quiz2', 'Assignment1', 'Assignment2', 'Attendance', 'StudyHours', 'ProjectScore', 'Midterm', 'Final']"
   ]
  },
  {
   "cell_type": "code",
   "execution_count": 3,
   "id": "2889064c-0277-448e-b26d-1b7d6111b986",
   "metadata": {},
   "outputs": [],
   "source": [
    "features_df = pd.DataFrame([[0, 0, 0, 0, 0, 0, 0, 0, 0]], columns=feature_names)"
   ]
  },
  {
   "cell_type": "code",
   "execution_count": 4,
   "id": "8b04d7d7-edf8-45ec-9f0f-499cd217130f",
   "metadata": {},
   "outputs": [],
   "source": [
    "predictions = classifier.predict(features_df)"
   ]
  },
  {
   "cell_type": "code",
   "execution_count": 5,
   "id": "74d3de7f-980e-4ac6-b683-a7e0f75fbdea",
   "metadata": {},
   "outputs": [
    {
     "name": "stdout",
     "output_type": "stream",
     "text": [
      "[5]\n"
     ]
    }
   ],
   "source": [
    "print(predictions)"
   ]
  }
 ],
 "metadata": {
  "kernelspec": {
   "display_name": "Python 3 (ipykernel)",
   "language": "python",
   "name": "python3"
  },
  "language_info": {
   "codemirror_mode": {
    "name": "ipython",
    "version": 3
   },
   "file_extension": ".py",
   "mimetype": "text/x-python",
   "name": "python",
   "nbconvert_exporter": "python",
   "pygments_lexer": "ipython3",
   "version": "3.12.0"
  }
 },
 "nbformat": 4,
 "nbformat_minor": 5
}
